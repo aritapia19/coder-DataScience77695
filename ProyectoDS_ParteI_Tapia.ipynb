{
  "cells": [
    {
      "cell_type": "markdown",
      "metadata": {
        "id": "view-in-github",
        "colab_type": "text"
      },
      "source": [
        "<a href=\"https://colab.research.google.com/github/aritapia19/coder-DataScience77695/blob/main/ProyectoDS_ParteI_Tapia.ipynb\" target=\"_parent\"><img src=\"https://colab.research.google.com/assets/colab-badge.svg\" alt=\"Open In Colab\"/></a>"
      ]
    },
    {
      "cell_type": "markdown",
      "id": "b99ce97d",
      "metadata": {
        "id": "b99ce97d"
      },
      "source": [
        "# Abstract\n",
        "\n",
        "El presente trabajo realiza un análisis exploratorio de datos (EDA) sobre un dataset proveniente de un **programa de plan canje de equipos**. El objetivo es comprender el comportamiento de los procesos logísticos asociados a los retiros de equipos, tanto en **domicilio** como en **tienda**, identificando patrones, anomalías y oportunidades de mejora en los tiempos y en el cumplimiento de los SLA.\n",
        "\n",
        "Se presentan las distribuciones de variables clave, la calidad de los datos, la relación entre distintas métricas de tiempos, y se sientan las bases para futuras etapas del proyecto, como modelado predictivo o análisis de optimización."
      ]
    },
    {
      "cell_type": "markdown",
      "id": "8319400e",
      "metadata": {
        "id": "8319400e"
      },
      "source": [
        "## Abstract — Resumen ejecutivo\n",
        "\n",
        "Este notebook presenta un análisis exploratorio del dataset **\"Plan Canje\"**, que contiene registros de canje de equipos y las operaciones de retiro (a domicilio o en tienda). El objetivo principal es caracterizar los tiempos de proceso y el cumplimiento de los SLA (nivel de servicio), identificar factores asociados a retrasos o fallas en la entrega y preparar variables para modelado predictivo que permitan reducir demoras y mejorar la experiencia del cliente.\n",
        "\n",
        "Se incluyen pasos de limpieza, análisis descriptivo, detección de valores faltantes, visualizaciones y análisis de correlaciones. Los resultados servirán como base para hipótesis comprobables y para proponer acciones operativas (p. ej. priorizar tipos de retiro o reforzar proveedores con más incumplimientos).\n",
        "\n",
        "En lenguaje llano: buscamos entender qué hace que un equipo tarde más en llegar —y cómo evitarlo— sin perder la cordura en el intento."
      ]
    },
    {
      "cell_type": "markdown",
      "id": "eec66fad",
      "metadata": {
        "id": "eec66fad"
      },
      "source": [
        "## Preguntas de interés y hipótesis (testables)\n",
        "\n",
        "A continuación se listan las preguntas que guían este trabajo y las hipótesis que proponemos verificar con el dataset.\n",
        "\n",
        "1. **¿Los retiros a domicilio presentan mayores tiempos de entrega que los retiros en tienda?**\n",
        "\n",
        "   **Hipótesis H1:** El tiempo total desde la creación del pedido hasta la entrega es mayor para retiros a domicilio que para retiros en tienda. (Test sugerido: prueba de medias / Mann–Whitney si no normal.)\n",
        "\n",
        "2. **¿El proveedor/transportista y la zona geográfica influyen en el cumplimiento del SLA?**\n",
        "\n",
        "   **Hipótesis H2:** Existen diferencias significativas en la tasa de cumplimiento del SLA entre distintos proveedores y por zonas/ciudades. (Test sugerido: chi-cuadrado sobre tablas de contingencia / análisis por grupos.)\n",
        "\n",
        "3. **¿La falta de datos clave (dirección, DNI) aumenta la probabilidad de retraso o no entrega?**\n",
        "\n",
        "   **Hipótesis H3:** Registros con campos faltantes o inválidos presentan mayor probabilidad de incumplimiento o tiempos de procesamiento más largos.\n",
        "\n",
        "4. **¿Hay estacionalidad (día de la semana / mes) que afecte los tiempos y la tasa de cumplimiento?**\n",
        "\n",
        "   **Hipótesis H4:** Pedidos realizados en fines de semana o en picos mensuales muestran mayor tiempo medio de entrega y mayor tasa de reprogramación.\n",
        "\n",
        "5. **¿Algunos modelos/marcas de equipos generan más incidencias (devoluciones, rechazos, reprogramaciones)?**\n",
        "\n",
        "   **Hipótesis H5:** Ciertos modelos o fabricantes presentan tasas más altas de incidencias operativas que impactan el SLA.\n",
        "\n",
        "6. **¿Un indicador temprano (por ejemplo, tiempo transcurrido hasta el primer intento de salida) predice incumplimientos posteriores?**\n",
        "\n",
        "   **Hipótesis H6:** Un mayor tiempo inicial entre creación y primer movimiento incrementa la probabilidad de incumplimiento final del SLA. (Modelado sugerido: regresión logística.)\n",
        "\n",
        "---\n",
        "\n",
        "**Variables recomendadas a construir / usar:** `tipo_retiro` (domicilio/tienda), `fecha_creacion`, `fecha_entrega`, `tiempo_total_dias`, `estado_final`, `vendor`, `dni_missing`, `direccion_missing`, `day_of_week`, `month`, `model_name`.\n",
        "\n",
        "**Notas metodológicas rápidas:** para comparar tiempos use resumenes por grupo (media, mediana, IQR) y tests estadísticos adecuados; para predecir incumplimiento usar clasificación supervisada (logistic regression / tree-based) con validación cruzada y métricas claramante definidas (AUC, recall sobre incumplimientos).\n",
        "\n"
      ]
    },
    {
      "cell_type": "markdown",
      "id": "8178135c",
      "metadata": {
        "id": "8178135c"
      },
      "source": [
        "# Preguntas de interés e hipótesis\n",
        "\n",
        "**Preguntas de interés:**\n",
        "- ¿Existe diferencia en los tiempos de retiro entre la modalidad *domicilio* y la modalidad *tienda*?\n",
        "- ¿Qué variables impactan más en el cumplimiento de los SLA de despacho y visitas?\n",
        "- ¿Hay patrones de localidades o provincias donde los retrasos sean sistemáticos?\n",
        "- ¿Qué rol cumplen las fechas de visitas y sus motivos en el estado final del retiro?\n",
        "\n",
        "**Hipótesis de trabajo:**\n",
        "1. Los retiros en domicilio presentan mayor variabilidad en los tiempos y menor cumplimiento de SLA que los retiros en tienda.\n",
        "2. El número de visitas y los motivos de no concreción son factores críticos en el cumplimiento E2E del proceso.\n",
        "3. Ciertas provincias presentan sistemáticamente mayores tiempos de despacho, posiblemente por limitaciones logísticas.\n",
        "4. La correcta planificación de fechas tentativas de despacho mejora el SLA global del plan canje."
      ]
    },
    {
      "cell_type": "markdown",
      "id": "40152fb5",
      "metadata": {
        "id": "40152fb5"
      },
      "source": [
        "# Proyecto DS - Parte I\n",
        "\n",
        "Análisis exploratorio de datos (EDA) sobre dataset de **plan canje de equipos**, con foco en los retiros a domicilio o en tienda.\n",
        "\n",
        "Este notebook documenta el proceso paso a paso, incluyendo carga de datos, limpieza inicial, exploración de variables, valores nulos, tipos de datos, estadísticas descriptivas, correlaciones y visualizaciones."
      ]
    },
    {
      "cell_type": "code",
      "execution_count": 1,
      "id": "c62c55c5",
      "metadata": {
        "id": "c62c55c5"
      },
      "outputs": [],
      "source": [
        "import pandas as pd\n",
        "import numpy as np\n",
        "import matplotlib.pyplot as plt\n",
        "from pandas.plotting import scatter_matrix\n",
        "import seaborn as sns\n",
        "\n",
        "# Configuración visual\n",
        "plt.style.use('default')\n",
        "pd.set_option('display.max_columns', 50)\n"
      ]
    },
    {
      "cell_type": "markdown",
      "id": "787e0ec9",
      "metadata": {
        "id": "787e0ec9"
      },
      "source": [
        "## 1. Carga de datos"
      ]
    },
    {
      "cell_type": "code",
      "execution_count": null,
      "id": "ee0c6bd4",
      "metadata": {
        "id": "ee0c6bd4"
      },
      "outputs": [],
      "source": [
        "# Cargar dataset\n",
        "csv_path = \"Dataset plan canje.csv\"\n",
        "df = pd.read_csv(csv_path, sep=';', encoding='latin1')\n",
        "\n",
        "# Normalizar nombres de columnas\n",
        "df.columns = [c.strip().replace(' ', '_').lower() for c in df.columns]\n",
        "\n",
        "df.shape, df.head()"
      ]
    },
    {
      "cell_type": "markdown",
      "id": "df259f29",
      "metadata": {
        "id": "df259f29"
      },
      "source": [
        "## 2. Información general del dataset"
      ]
    },
    {
      "cell_type": "code",
      "execution_count": 3,
      "id": "e8f50699",
      "metadata": {
        "colab": {
          "base_uri": "https://localhost:8080/",
          "height": 141
        },
        "id": "e8f50699",
        "outputId": "29acab82-2d5a-4b03-ff5e-bf1ed3f698aa"
      },
      "outputs": [
        {
          "output_type": "error",
          "ename": "NameError",
          "evalue": "name 'df' is not defined",
          "traceback": [
            "\u001b[0;31m---------------------------------------------------------------------------\u001b[0m",
            "\u001b[0;31mNameError\u001b[0m                                 Traceback (most recent call last)",
            "\u001b[0;32m/tmp/ipython-input-3771845804.py\u001b[0m in \u001b[0;36m<cell line: 0>\u001b[0;34m()\u001b[0m\n\u001b[0;32m----> 1\u001b[0;31m \u001b[0mdf\u001b[0m\u001b[0;34m.\u001b[0m\u001b[0minfo\u001b[0m\u001b[0;34m(\u001b[0m\u001b[0;34m)\u001b[0m\u001b[0;34m\u001b[0m\u001b[0;34m\u001b[0m\u001b[0m\n\u001b[0m",
            "\u001b[0;31mNameError\u001b[0m: name 'df' is not defined"
          ]
        }
      ],
      "source": [
        "df.info()"
      ]
    },
    {
      "cell_type": "code",
      "execution_count": null,
      "id": "4a87e21a",
      "metadata": {
        "id": "4a87e21a"
      },
      "outputs": [],
      "source": [
        "df.dtypes.value_counts()"
      ]
    },
    {
      "cell_type": "markdown",
      "id": "6944e723",
      "metadata": {
        "id": "6944e723"
      },
      "source": [
        "## 3. Análisis de valores nulos"
      ]
    },
    {
      "cell_type": "code",
      "execution_count": null,
      "id": "98548ced",
      "metadata": {
        "id": "98548ced"
      },
      "outputs": [],
      "source": [
        "nulos = pd.DataFrame({\n",
        "    'missing_count': df.isna().sum(),\n",
        "    'missing_pct': (df.isna().mean()*100).round(2)\n",
        "}).sort_values('missing_pct', ascending=False)\n",
        "nulos.head(20)"
      ]
    },
    {
      "cell_type": "markdown",
      "id": "b7509c1e",
      "metadata": {
        "id": "b7509c1e"
      },
      "source": [
        "## 4. Estadísticas descriptivas"
      ]
    },
    {
      "cell_type": "code",
      "execution_count": null,
      "id": "19600cb2",
      "metadata": {
        "id": "19600cb2"
      },
      "outputs": [],
      "source": [
        "df.describe(include='all').transpose()"
      ]
    },
    {
      "cell_type": "markdown",
      "id": "05545fde",
      "metadata": {
        "id": "05545fde"
      },
      "source": [
        "## 5. Variables numéricas y categóricas"
      ]
    },
    {
      "cell_type": "code",
      "execution_count": null,
      "id": "4ceeb6b2",
      "metadata": {
        "id": "4ceeb6b2"
      },
      "outputs": [],
      "source": [
        "num_cols = df.select_dtypes(include=[np.number]).columns.tolist()\n",
        "cat_cols = df.select_dtypes(exclude=[np.number]).columns.tolist()\n",
        "num_cols, cat_cols"
      ]
    },
    {
      "cell_type": "markdown",
      "id": "539c75d0",
      "metadata": {
        "id": "539c75d0"
      },
      "source": [
        "## 6. Visualizaciones univariadas y multivariadas"
      ]
    },
    {
      "cell_type": "code",
      "execution_count": null,
      "id": "3b6f1638",
      "metadata": {
        "id": "3b6f1638"
      },
      "outputs": [],
      "source": [
        "# Histogramas y boxplots para variables numéricas\n",
        "for col in num_cols:\n",
        "    fig, ax = plt.subplots(1,2, figsize=(10,3))\n",
        "    df[col].dropna().hist(bins=30, ax=ax[0])\n",
        "    ax[0].set_title(f'Histograma - {col}')\n",
        "    ax[1].boxplot(df[col].dropna(), vert=False)\n",
        "    ax[1].set_title(f'Boxplot - {col}')\n",
        "    plt.show()"
      ]
    },
    {
      "cell_type": "code",
      "execution_count": null,
      "id": "bec48f06",
      "metadata": {
        "id": "bec48f06"
      },
      "outputs": [],
      "source": [
        "# Barras para variables categóricas (top 15 valores)\n",
        "for col in cat_cols[:6]:  # mostrar solo primeras 6 por legibilidad\n",
        "    vc = df[col].value_counts().nlargest(15)\n",
        "    vc.plot(kind='barh', figsize=(8,4), title=f'Top valores - {col}')\n",
        "    plt.show()"
      ]
    },
    {
      "cell_type": "code",
      "execution_count": null,
      "id": "1870db61",
      "metadata": {
        "id": "1870db61"
      },
      "outputs": [],
      "source": [
        "# Scatter matrix (primeras numéricas)\n",
        "num_for_scatter = num_cols[:6]\n",
        "if len(num_for_scatter) >= 2:\n",
        "    scatter_matrix(df[num_for_scatter].dropna(), figsize=(10,10), diagonal='hist')\n",
        "    plt.show()"
      ]
    },
    {
      "cell_type": "code",
      "execution_count": null,
      "id": "f4bd67e0",
      "metadata": {
        "id": "f4bd67e0"
      },
      "outputs": [],
      "source": [
        "# Matriz de correlación\n",
        "if len(num_cols) >= 2:\n",
        "    corr = df[num_cols].corr()\n",
        "    plt.figure(figsize=(10,8))\n",
        "    sns.heatmap(corr, annot=False, cmap='coolwarm')\n",
        "    plt.title('Matriz de correlación')\n",
        "    plt.show()\n"
      ]
    },
    {
      "cell_type": "code",
      "execution_count": null,
      "id": "a13669ab",
      "metadata": {
        "id": "a13669ab"
      },
      "outputs": [],
      "source": [
        "# Pares con mayor correlación absoluta\n",
        "if len(num_cols) >= 2:\n",
        "    corr = df[num_cols].corr()\n",
        "    corr_abs = corr.abs().where(~np.eye(corr.shape[0],dtype=bool))\n",
        "    stacked = corr_abs.unstack().dropna().sort_values(ascending=False)\n",
        "    top_pairs = stacked[~stacked.index.duplicated()].nlargest(3)\n",
        "    top_pairs"
      ]
    },
    {
      "cell_type": "code",
      "execution_count": null,
      "id": "d5dd86b9",
      "metadata": {
        "id": "d5dd86b9"
      },
      "outputs": [],
      "source": [
        "# Graficar los 3 pares con mayor correlación\n",
        "for (a,b), val in top_pairs.items():\n",
        "    plt.scatter(df[a], df[b])\n",
        "    plt.xlabel(a); plt.ylabel(b)\n",
        "    plt.title(f'Scatter {a} vs {b} (corr={val:.2f})')\n",
        "    plt.show()"
      ]
    },
    {
      "cell_type": "markdown",
      "id": "c1bec885",
      "metadata": {
        "id": "c1bec885"
      },
      "source": [
        "## 7. Conclusiones\n",
        "\n",
        "Este análisis exploratorio permitió:\n",
        "- Identificar las variables numéricas y categóricas relevantes.\n",
        "- Detectar presencia de valores nulos y necesidad de imputación o limpieza.\n",
        "- Visualizar distribuciones de variables clave del proceso de plan canje.\n",
        "- Analizar correlaciones entre métricas de tiempos y SLA.\n",
        "\n",
        "Esto servirá de base para los siguientes pasos del proyecto: modelado de procesos, métricas de SLA, y propuestas de optimización para los retiros tanto a domicilio como en tienda."
      ]
    }
  ],
  "metadata": {
    "colab": {
      "provenance": [],
      "include_colab_link": true
    },
    "language_info": {
      "name": "python"
    },
    "kernelspec": {
      "name": "python3",
      "display_name": "Python 3"
    }
  },
  "nbformat": 4,
  "nbformat_minor": 5
}