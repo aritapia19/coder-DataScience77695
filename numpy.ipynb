{
  "cells": [
    {
      "cell_type": "markdown",
      "metadata": {
        "id": "view-in-github",
        "colab_type": "text"
      },
      "source": [
        "<a href=\"https://colab.research.google.com/github/aritapia19/coder-DataScience77695/blob/main/numpy.ipynb\" target=\"_parent\"><img src=\"https://colab.research.google.com/assets/colab-badge.svg\" alt=\"Open In Colab\"/></a>"
      ]
    },
    {
      "cell_type": "markdown",
      "id": "c7327e82-fd82-4234-a5ec-2c94292c198f",
      "metadata": {
        "id": "c7327e82-fd82-4234-a5ec-2c94292c198f"
      },
      "source": [
        "## Numpy"
      ]
    },
    {
      "cell_type": "markdown",
      "id": "a19730c2-6384-4353-80d1-4df49846f9d6",
      "metadata": {
        "id": "a19730c2-6384-4353-80d1-4df49846f9d6"
      },
      "source": [
        "__Ejercicio 1:__"
      ]
    },
    {
      "cell_type": "markdown",
      "id": "d0c1cfcc-7730-4612-9a49-23f3790b543f",
      "metadata": {
        "id": "d0c1cfcc-7730-4612-9a49-23f3790b543f"
      },
      "source": [
        "Importar numpy"
      ]
    },
    {
      "cell_type": "code",
      "execution_count": 2,
      "id": "fdc297ee-bc0d-42b8-a1cb-c01e45fae36d",
      "metadata": {
        "id": "fdc297ee-bc0d-42b8-a1cb-c01e45fae36d"
      },
      "outputs": [],
      "source": [
        "import numpy as np"
      ]
    },
    {
      "cell_type": "code",
      "execution_count": 3,
      "id": "a70a8238-60ef-4383-b3da-4714c1074c85",
      "metadata": {
        "id": "a70a8238-60ef-4383-b3da-4714c1074c85"
      },
      "outputs": [],
      "source": [
        "import matplotlib.pyplot as plt\n"
      ]
    },
    {
      "cell_type": "markdown",
      "id": "6abe2412-1096-42ef-ac26-97d52d483563",
      "metadata": {
        "id": "6abe2412-1096-42ef-ac26-97d52d483563"
      },
      "source": [
        "__Ejercicio 2:__"
      ]
    },
    {
      "cell_type": "code",
      "execution_count": 4,
      "id": "d06d31a3-2aba-4262-ba57-bb8b5989bb0f",
      "metadata": {
        "id": "d06d31a3-2aba-4262-ba57-bb8b5989bb0f"
      },
      "outputs": [],
      "source": [
        "lista= [31,28,29,19]"
      ]
    },
    {
      "cell_type": "markdown",
      "id": "a280bead-9a9a-4605-8954-e47d37cac2a6",
      "metadata": {
        "id": "a280bead-9a9a-4605-8954-e47d37cac2a6"
      },
      "source": [
        "Crear una ndarray utilizando la lista anterior"
      ]
    },
    {
      "cell_type": "code",
      "execution_count": 5,
      "id": "2fc49c07-0660-44da-8fd0-c5f71fbf67d7",
      "metadata": {
        "id": "2fc49c07-0660-44da-8fd0-c5f71fbf67d7"
      },
      "outputs": [],
      "source": [
        "arr = np.array(lista)\n"
      ]
    },
    {
      "cell_type": "code",
      "source": [
        "arr"
      ],
      "metadata": {
        "colab": {
          "base_uri": "https://localhost:8080/"
        },
        "id": "DBb3o8OTsCu5",
        "outputId": "aaeaaeff-c401-4880-b93f-8408f2a0c367"
      },
      "id": "DBb3o8OTsCu5",
      "execution_count": 6,
      "outputs": [
        {
          "output_type": "execute_result",
          "data": {
            "text/plain": [
              "array([31, 28, 29, 19])"
            ]
          },
          "metadata": {},
          "execution_count": 6
        }
      ]
    },
    {
      "cell_type": "markdown",
      "id": "a7f7692d-63e3-4688-bbda-9c5dc9340e0f",
      "metadata": {
        "id": "a7f7692d-63e3-4688-bbda-9c5dc9340e0f"
      },
      "source": [
        "__Ejercicio 3:__"
      ]
    },
    {
      "cell_type": "code",
      "execution_count": 7,
      "id": "4d0aa5ca-e154-4f9b-9b25-7c7f2695e06b",
      "metadata": {
        "id": "4d0aa5ca-e154-4f9b-9b25-7c7f2695e06b"
      },
      "outputs": [],
      "source": [
        "lista_2d=[[2,3,4],\n",
        "          [3,4,5],\n",
        "          [3,4,5],\n",
        "          [3,4,5]]"
      ]
    },
    {
      "cell_type": "markdown",
      "id": "d7c21cc3-407d-44ef-82a9-82733f2bffee",
      "metadata": {
        "id": "d7c21cc3-407d-44ef-82a9-82733f2bffee"
      },
      "source": [
        "Crear una ndarray utilizando la lista bidimensional anterior"
      ]
    },
    {
      "cell_type": "code",
      "execution_count": 8,
      "id": "3aa7c127-4943-45f2-a5a3-3e9ef4cc7589",
      "metadata": {
        "id": "3aa7c127-4943-45f2-a5a3-3e9ef4cc7589"
      },
      "outputs": [],
      "source": [
        "arr = np.array(lista_2d)"
      ]
    },
    {
      "cell_type": "code",
      "source": [
        "arr"
      ],
      "metadata": {
        "colab": {
          "base_uri": "https://localhost:8080/"
        },
        "id": "zOZMdJSwsLGx",
        "outputId": "5cb37e3e-2578-4527-8dc0-b2e064549f79"
      },
      "id": "zOZMdJSwsLGx",
      "execution_count": 9,
      "outputs": [
        {
          "output_type": "execute_result",
          "data": {
            "text/plain": [
              "array([[2, 3, 4],\n",
              "       [3, 4, 5],\n",
              "       [3, 4, 5],\n",
              "       [3, 4, 5]])"
            ]
          },
          "metadata": {},
          "execution_count": 9
        }
      ]
    },
    {
      "cell_type": "markdown",
      "id": "ef3847b6-eda7-4fd1-b115-3c240a2413a7",
      "metadata": {
        "id": "ef3847b6-eda7-4fd1-b115-3c240a2413a7"
      },
      "source": [
        "__Ejercicio 4:__"
      ]
    },
    {
      "cell_type": "markdown",
      "id": "7ebe38ea-eef2-49d6-b15e-a9ecb2a52b2c",
      "metadata": {
        "id": "7ebe38ea-eef2-49d6-b15e-a9ecb2a52b2c"
      },
      "source": [
        "Utilizar la propiedad shape para obtener la forma del ndarray anterior"
      ]
    },
    {
      "cell_type": "code",
      "execution_count": 10,
      "id": "15be0acf-6149-4104-a361-ac862e9e6620",
      "metadata": {
        "id": "15be0acf-6149-4104-a361-ac862e9e6620",
        "outputId": "d6807a60-373e-4e0d-a747-5c328327d071",
        "colab": {
          "base_uri": "https://localhost:8080/"
        }
      },
      "outputs": [
        {
          "output_type": "execute_result",
          "data": {
            "text/plain": [
              "(4, 3)"
            ]
          },
          "metadata": {},
          "execution_count": 10
        }
      ],
      "source": [
        "arr.shape"
      ]
    },
    {
      "cell_type": "markdown",
      "id": "4824638b-96e5-4754-be79-8c823f834420",
      "metadata": {
        "id": "4824638b-96e5-4754-be79-8c823f834420"
      },
      "source": [
        "Utilizar la propiedad ndim para obtener las dimensiones del ndarray anterior"
      ]
    },
    {
      "cell_type": "code",
      "execution_count": 11,
      "id": "6c2fad0b-cb86-439e-b4a7-7fd3edbba2c7",
      "metadata": {
        "id": "6c2fad0b-cb86-439e-b4a7-7fd3edbba2c7",
        "outputId": "d15e4363-bc2c-44d4-8240-396bd43ea844",
        "colab": {
          "base_uri": "https://localhost:8080/"
        }
      },
      "outputs": [
        {
          "output_type": "execute_result",
          "data": {
            "text/plain": [
              "2"
            ]
          },
          "metadata": {},
          "execution_count": 11
        }
      ],
      "source": [
        "arr.ndim"
      ]
    },
    {
      "cell_type": "markdown",
      "id": "1e434bf5-ec3f-4c86-8e41-09fe3eb736a0",
      "metadata": {
        "id": "1e434bf5-ec3f-4c86-8e41-09fe3eb736a0"
      },
      "source": [
        "Utilizar la propiedad dtype para obtener el tipo de los datos en el ndarray anterior"
      ]
    },
    {
      "cell_type": "code",
      "execution_count": 12,
      "id": "69e66663-e400-4795-9f81-84978b1cad1f",
      "metadata": {
        "id": "69e66663-e400-4795-9f81-84978b1cad1f",
        "outputId": "df517ef1-d885-4ac8-a414-9bf02383ea62",
        "colab": {
          "base_uri": "https://localhost:8080/"
        }
      },
      "outputs": [
        {
          "output_type": "execute_result",
          "data": {
            "text/plain": [
              "dtype('int64')"
            ]
          },
          "metadata": {},
          "execution_count": 12
        }
      ],
      "source": [
        "arr.dtype"
      ]
    },
    {
      "cell_type": "markdown",
      "id": "184283c0-3789-48fc-bac0-d7cdf275bec4",
      "metadata": {
        "id": "184283c0-3789-48fc-bac0-d7cdf275bec4"
      },
      "source": [
        "Utilizar la propiedad size para obtener la cantidad total de datos en el ndarray anterior"
      ]
    },
    {
      "cell_type": "code",
      "execution_count": 13,
      "id": "a22fd4c0-43b7-4bee-b34e-99d0599aee2d",
      "metadata": {
        "id": "a22fd4c0-43b7-4bee-b34e-99d0599aee2d",
        "outputId": "2b894697-5ea9-4d2c-aac7-69d46db9eaaa",
        "colab": {
          "base_uri": "https://localhost:8080/"
        }
      },
      "outputs": [
        {
          "output_type": "execute_result",
          "data": {
            "text/plain": [
              "12"
            ]
          },
          "metadata": {},
          "execution_count": 13
        }
      ],
      "source": [
        "arr.size"
      ]
    },
    {
      "cell_type": "markdown",
      "id": "5dd95a43-7d3d-426a-9bd1-48e1bd3b2da9",
      "metadata": {
        "id": "5dd95a43-7d3d-426a-9bd1-48e1bd3b2da9"
      },
      "source": [
        "__Ejercicio 5:__"
      ]
    },
    {
      "cell_type": "markdown",
      "id": "761e91bc-f278-4380-ba5b-d05f9cbdec6f",
      "metadata": {
        "id": "761e91bc-f278-4380-ba5b-d05f9cbdec6f"
      },
      "source": [
        "Crear un ndarray utilizando la lista \"lista_2d\", el tipo de los datos debe ser \"int16\""
      ]
    },
    {
      "cell_type": "code",
      "execution_count": 14,
      "id": "94b41715-3d42-427e-a3fd-240487b0ea90",
      "metadata": {
        "id": "94b41715-3d42-427e-a3fd-240487b0ea90"
      },
      "outputs": [],
      "source": [
        "arr = np.array(lista_2d,dtype=\"int16\")"
      ]
    },
    {
      "cell_type": "markdown",
      "id": "67a2d007-ddec-41df-8bb2-df4a51420fae",
      "metadata": {
        "id": "67a2d007-ddec-41df-8bb2-df4a51420fae"
      },
      "source": [
        "__Ejercicio 6:__"
      ]
    },
    {
      "cell_type": "markdown",
      "id": "95aebac0-6ef3-45de-a8a8-be4d7cb71d7c",
      "metadata": {
        "id": "95aebac0-6ef3-45de-a8a8-be4d7cb71d7c"
      },
      "source": [
        "Utilizar la función np.zeros para crear un ndarray con la forma 3x2"
      ]
    },
    {
      "cell_type": "code",
      "execution_count": 15,
      "id": "d2997bc4-ae45-4b4a-aa36-7329dc32b33e",
      "metadata": {
        "id": "d2997bc4-ae45-4b4a-aa36-7329dc32b33e",
        "outputId": "4f368e6d-b5d9-4d04-fb29-302b20fd820e",
        "colab": {
          "base_uri": "https://localhost:8080/"
        }
      },
      "outputs": [
        {
          "output_type": "execute_result",
          "data": {
            "text/plain": [
              "array([[0., 0.],\n",
              "       [0., 0.],\n",
              "       [0., 0.]])"
            ]
          },
          "metadata": {},
          "execution_count": 15
        }
      ],
      "source": [
        "np.zeros((3,2))"
      ]
    },
    {
      "cell_type": "markdown",
      "id": "61a92a21-f2ee-4b7d-bea8-24f7bec015c3",
      "metadata": {
        "id": "61a92a21-f2ee-4b7d-bea8-24f7bec015c3"
      },
      "source": [
        "Utilizar la función np.ones para crear un ndarray con la forma 3x3"
      ]
    },
    {
      "cell_type": "code",
      "execution_count": 16,
      "id": "87db7972-fda2-4858-a456-6670825c6479",
      "metadata": {
        "id": "87db7972-fda2-4858-a456-6670825c6479",
        "outputId": "f75c684f-eb09-4e3c-9c3f-7a67d231500f",
        "colab": {
          "base_uri": "https://localhost:8080/"
        }
      },
      "outputs": [
        {
          "output_type": "execute_result",
          "data": {
            "text/plain": [
              "array([[1., 1., 1.],\n",
              "       [1., 1., 1.],\n",
              "       [1., 1., 1.]])"
            ]
          },
          "metadata": {},
          "execution_count": 16
        }
      ],
      "source": [
        "np.ones((3,3))"
      ]
    },
    {
      "cell_type": "markdown",
      "id": "b3956de0-7f1c-4424-9a95-f5c38f4ff01f",
      "metadata": {
        "id": "b3956de0-7f1c-4424-9a95-f5c38f4ff01f"
      },
      "source": [
        "Utilizar la función np.empty para crear un ndarray con la forma 2x4"
      ]
    },
    {
      "cell_type": "code",
      "execution_count": 17,
      "id": "ea688cdb-6eca-43ed-9415-a11289356396",
      "metadata": {
        "id": "ea688cdb-6eca-43ed-9415-a11289356396",
        "outputId": "d8624207-b98a-4df7-ccc6-30f46e7dcdfd",
        "colab": {
          "base_uri": "https://localhost:8080/"
        }
      },
      "outputs": [
        {
          "output_type": "execute_result",
          "data": {
            "text/plain": [
              "array([[3.35856908e-316, 0.00000000e+000, 5.75706634e-317,\n",
              "        6.81757257e-310],\n",
              "       [6.81759256e-310, 5.75706634e-317, 6.81757257e-310,\n",
              "        5.30300816e-317]])"
            ]
          },
          "metadata": {},
          "execution_count": 17
        }
      ],
      "source": [
        "np.empty((2,4))"
      ]
    },
    {
      "cell_type": "markdown",
      "id": "d97f5126-5e89-4e84-bff8-8ab2922ebccb",
      "metadata": {
        "id": "d97f5126-5e89-4e84-bff8-8ab2922ebccb"
      },
      "source": [
        "__Ejercicio 7:__"
      ]
    },
    {
      "cell_type": "markdown",
      "id": "9b4f9ead-3891-4b57-b174-b601dc0683bf",
      "metadata": {
        "id": "9b4f9ead-3891-4b57-b174-b601dc0683bf"
      },
      "source": [
        "Crear un ndarray de 1 dimensión con los valores del 0 al 9 (Ej. [1,2,3,...])"
      ]
    },
    {
      "cell_type": "code",
      "execution_count": 18,
      "id": "8cdb9077-e8b1-4c35-ad3a-4ec715e79112",
      "metadata": {
        "id": "8cdb9077-e8b1-4c35-ad3a-4ec715e79112",
        "outputId": "3e579163-d90c-4748-a778-b079904fc0f2",
        "colab": {
          "base_uri": "https://localhost:8080/"
        }
      },
      "outputs": [
        {
          "output_type": "execute_result",
          "data": {
            "text/plain": [
              "array([0, 1, 2, 3, 4, 5, 6, 7, 8, 9])"
            ]
          },
          "metadata": {},
          "execution_count": 18
        }
      ],
      "source": [
        "np.array(range(10))"
      ]
    },
    {
      "cell_type": "markdown",
      "id": "57be4fb9-0969-4a92-a278-387d7595c3fc",
      "metadata": {
        "id": "57be4fb9-0969-4a92-a278-387d7595c3fc"
      },
      "source": [
        "Crear un ndarray de 2 dimensión con la forma 2x5,los valores deben ser del 0 al 9 (Ej. [[0,1,2,3,4],[5,6,..]])"
      ]
    },
    {
      "cell_type": "code",
      "execution_count": 19,
      "id": "79a345a8-b779-415d-b22e-e87d75b1672f",
      "metadata": {
        "id": "79a345a8-b779-415d-b22e-e87d75b1672f",
        "outputId": "1097899a-e4fe-4a2f-c506-0f8ee606908c",
        "colab": {
          "base_uri": "https://localhost:8080/"
        }
      },
      "outputs": [
        {
          "output_type": "execute_result",
          "data": {
            "text/plain": [
              "array([[0, 1, 2, 3, 4],\n",
              "       [5, 6, 7, 8, 9]])"
            ]
          },
          "metadata": {},
          "execution_count": 19
        }
      ],
      "source": [
        "np.array(range(10)).reshape(2,5)"
      ]
    },
    {
      "cell_type": "markdown",
      "id": "31da554b-5b01-4c72-a240-31daba880c19",
      "metadata": {
        "id": "31da554b-5b01-4c72-a240-31daba880c19"
      },
      "source": [
        "__Ejercicio 8:__"
      ]
    },
    {
      "cell_type": "markdown",
      "id": "2f5a7f25-48d2-4171-9b5f-3dd956e57e50",
      "metadata": {
        "id": "2f5a7f25-48d2-4171-9b5f-3dd956e57e50"
      },
      "source": [
        "Utilizar np.arange para crear un ndarray con los valores del 10 al 20, deben ir de 2 en 2 (Ej. [10,12,..])"
      ]
    },
    {
      "cell_type": "code",
      "execution_count": 23,
      "id": "c05f65d7-55df-4bb3-862e-7eab91a3d3d9",
      "metadata": {
        "id": "c05f65d7-55df-4bb3-862e-7eab91a3d3d9",
        "outputId": "b9f31147-7589-474b-a398-3d43e3bc130d",
        "colab": {
          "base_uri": "https://localhost:8080/"
        }
      },
      "outputs": [
        {
          "output_type": "execute_result",
          "data": {
            "text/plain": [
              "array([10, 12, 14, 16, 18, 20])"
            ]
          },
          "metadata": {},
          "execution_count": 23
        }
      ],
      "source": [
        "np.arange(10,21,2)"
      ]
    },
    {
      "cell_type": "markdown",
      "id": "a42828a6-38db-46fd-8fa8-301a8838c627",
      "metadata": {
        "id": "a42828a6-38db-46fd-8fa8-301a8838c627"
      },
      "source": [
        "__Ejercicio 9:__"
      ]
    },
    {
      "cell_type": "markdown",
      "id": "fd702fb3-3cd9-45d6-8032-57bbec0a51b1",
      "metadata": {
        "id": "fd702fb3-3cd9-45d6-8032-57bbec0a51b1"
      },
      "source": [
        "Utilizar np.linspace para crear un ndarray con los valores enteros entre el 10 al 20"
      ]
    },
    {
      "cell_type": "code",
      "execution_count": 24,
      "id": "85cc30af-250f-4ab8-a7cf-eed247a0dea9",
      "metadata": {
        "id": "85cc30af-250f-4ab8-a7cf-eed247a0dea9",
        "outputId": "ecd76224-d7d6-4fb9-dfa5-9887e71674a6",
        "colab": {
          "base_uri": "https://localhost:8080/"
        }
      },
      "outputs": [
        {
          "output_type": "execute_result",
          "data": {
            "text/plain": [
              "array([10., 11., 12., 13., 14., 15., 16., 17., 18., 19., 20.])"
            ]
          },
          "metadata": {},
          "execution_count": 24
        }
      ],
      "source": [
        "np.linspace(10,20,11)"
      ]
    },
    {
      "cell_type": "markdown",
      "id": "d04b6ccf-5d9b-4769-a3a2-d65d93e644d4",
      "metadata": {
        "id": "d04b6ccf-5d9b-4769-a3a2-d65d93e644d4"
      },
      "source": [
        "__Ejercicio 10:__"
      ]
    },
    {
      "cell_type": "markdown",
      "id": "a5624bd4-06c2-4959-8e10-d1b8e0227705",
      "metadata": {
        "id": "a5624bd4-06c2-4959-8e10-d1b8e0227705"
      },
      "source": [
        "Utilizar np.linspace para crear un ndarray  con 100 números entre el 0 y 2$\\pi$"
      ]
    },
    {
      "cell_type": "code",
      "execution_count": 30,
      "id": "aa9439dc-b364-465c-b260-ca47fd9fcec4",
      "metadata": {
        "id": "aa9439dc-b364-465c-b260-ca47fd9fcec4",
        "outputId": "cf3cc184-c3d4-4a48-e9c4-0b4c00538d63",
        "colab": {
          "base_uri": "https://localhost:8080/"
        }
      },
      "outputs": [
        {
          "output_type": "execute_result",
          "data": {
            "text/plain": [
              "array([0.        , 0.06346652, 0.12693304, 0.19039955, 0.25386607,\n",
              "       0.31733259, 0.38079911, 0.44426563, 0.50773215, 0.57119866,\n",
              "       0.63466518, 0.6981317 , 0.76159822, 0.82506474, 0.88853126,\n",
              "       0.95199777, 1.01546429, 1.07893081, 1.14239733, 1.20586385,\n",
              "       1.26933037, 1.33279688, 1.3962634 , 1.45972992, 1.52319644,\n",
              "       1.58666296, 1.65012947, 1.71359599, 1.77706251, 1.84052903,\n",
              "       1.90399555, 1.96746207, 2.03092858, 2.0943951 , 2.15786162,\n",
              "       2.22132814, 2.28479466, 2.34826118, 2.41172769, 2.47519421,\n",
              "       2.53866073, 2.60212725, 2.66559377, 2.72906028, 2.7925268 ,\n",
              "       2.85599332, 2.91945984, 2.98292636, 3.04639288, 3.10985939,\n",
              "       3.17332591, 3.23679243, 3.30025895, 3.36372547, 3.42719199,\n",
              "       3.4906585 , 3.55412502, 3.61759154, 3.68105806, 3.74452458,\n",
              "       3.8079911 , 3.87145761, 3.93492413, 3.99839065, 4.06185717,\n",
              "       4.12532369, 4.1887902 , 4.25225672, 4.31572324, 4.37918976,\n",
              "       4.44265628, 4.5061228 , 4.56958931, 4.63305583, 4.69652235,\n",
              "       4.75998887, 4.82345539, 4.88692191, 4.95038842, 5.01385494,\n",
              "       5.07732146, 5.14078798, 5.2042545 , 5.26772102, 5.33118753,\n",
              "       5.39465405, 5.45812057, 5.52158709, 5.58505361, 5.64852012,\n",
              "       5.71198664, 5.77545316, 5.83891968, 5.9023862 , 5.96585272,\n",
              "       6.02931923, 6.09278575, 6.15625227, 6.21971879, 6.28318531])"
            ]
          },
          "metadata": {},
          "execution_count": 30
        }
      ],
      "source": [
        "from numpy import pi\n",
        "rad = np.linspace(0,2*pi,100)\n",
        "rad"
      ]
    },
    {
      "cell_type": "markdown",
      "id": "22b71ecd-a48f-47a5-8fb3-c53384a557b6",
      "metadata": {
        "id": "22b71ecd-a48f-47a5-8fb3-c53384a557b6"
      },
      "source": [
        "Utilizar np.sin y np.cos para obtener los valores de seno y coseno en los puntos del array anterior"
      ]
    },
    {
      "cell_type": "code",
      "execution_count": 32,
      "id": "691abc23-2c53-4e71-8feb-899e067166d9",
      "metadata": {
        "id": "691abc23-2c53-4e71-8feb-899e067166d9"
      },
      "outputs": [],
      "source": [
        "seno = np.sin(rad)\n",
        "coseno = np.cos(rad)"
      ]
    },
    {
      "cell_type": "markdown",
      "id": "bc933a1f-5f84-4e0e-bfa9-13d682e74779",
      "metadata": {
        "id": "bc933a1f-5f84-4e0e-bfa9-13d682e74779"
      },
      "source": [
        "Utilizar plt.plot para graficar un círculo con los datos de seno y coseno"
      ]
    },
    {
      "cell_type": "code",
      "execution_count": 34,
      "id": "67c506aa-ba33-4658-ab11-295539ffdad2",
      "metadata": {
        "id": "67c506aa-ba33-4658-ab11-295539ffdad2",
        "outputId": "141a3962-ca77-4f86-d265-43801571fdbf",
        "colab": {
          "base_uri": "https://localhost:8080/",
          "height": 430
        }
      },
      "outputs": [
        {
          "output_type": "display_data",
          "data": {
            "text/plain": [
              "<Figure size 640x480 with 1 Axes>"
            ],
            "image/png": "[encoded data removed]"
          },
          "metadata": {}
        }
      ],
      "source": [
        "plt.plot(seno,coseno)\n",
        "plt.show()"
      ]
    },
    {
      "cell_type": "markdown",
      "id": "155bbcd6-88d5-4cdc-9a05-c50f26f5187f",
      "metadata": {
        "id": "155bbcd6-88d5-4cdc-9a05-c50f26f5187f"
      },
      "source": [
        "__Ejercicio 11:__"
      ]
    },
    {
      "cell_type": "markdown",
      "id": "c0b81a7c-aa51-4400-9527-130a5bbcc8d5",
      "metadata": {
        "id": "c0b81a7c-aa51-4400-9527-130a5bbcc8d5"
      },
      "source": [
        "Utilizar plt.plot para graficar los valores de seno y coseno por separado"
      ]
    },
    {
      "cell_type": "code",
      "execution_count": 35,
      "id": "6e91a06c-c9ec-4600-a220-1c3e75668def",
      "metadata": {
        "id": "6e91a06c-c9ec-4600-a220-1c3e75668def",
        "outputId": "b47a4f45-63a6-4ba2-d982-27466b2410b0",
        "colab": {
          "base_uri": "https://localhost:8080/",
          "height": 430
        }
      },
      "outputs": [
        {
          "output_type": "display_data",
          "data": {
            "text/plain": [
              "<Figure size 640x480 with 1 Axes>"
            ],
            "image/png": "[encoded data removed]"
          },
          "metadata": {}
        }
      ],
      "source": [
        "plt.plot(seno)\n",
        "plt.plot(coseno)\n",
        "plt.show()"
      ]
    },
    {
      "cell_type": "markdown",
      "id": "8bd317ad-9cae-4dff-a928-726ebda177bf",
      "metadata": {
        "id": "8bd317ad-9cae-4dff-a928-726ebda177bf"
      },
      "source": [
        "__Ejercicio 12:__"
      ]
    },
    {
      "cell_type": "code",
      "execution_count": 36,
      "id": "e3319954-862f-4bdf-998e-d5f24781a40d",
      "metadata": {
        "id": "e3319954-862f-4bdf-998e-d5f24781a40d",
        "outputId": "7de36c39-d575-4b9f-e85d-8b28219ba153",
        "colab": {
          "base_uri": "https://localhost:8080/"
        }
      },
      "outputs": [
        {
          "output_type": "stream",
          "name": "stdout",
          "text": [
            "[10. 12. 14. 16. 18. 20.] [ 5.  9. 13. 17. 21. 25.]\n"
          ]
        }
      ],
      "source": [
        "a= np.linspace(10,20,6)\n",
        "b= np.linspace(5,25,6)\n",
        "print(a,b)"
      ]
    },
    {
      "cell_type": "markdown",
      "id": "03a56414-a7b0-4dff-a351-11af200156ee",
      "metadata": {
        "id": "03a56414-a7b0-4dff-a351-11af200156ee"
      },
      "source": [
        "Sumar los valores de los ndarray \"a\" y \"b\""
      ]
    },
    {
      "cell_type": "code",
      "execution_count": 37,
      "id": "98e5e936-d60c-4d71-a750-2f9a2f8d21bf",
      "metadata": {
        "id": "98e5e936-d60c-4d71-a750-2f9a2f8d21bf",
        "outputId": "d9ee0daa-7e6d-468d-d243-e22bbcf7bdda",
        "colab": {
          "base_uri": "https://localhost:8080/"
        }
      },
      "outputs": [
        {
          "output_type": "execute_result",
          "data": {
            "text/plain": [
              "array([15., 21., 27., 33., 39., 45.])"
            ]
          },
          "metadata": {},
          "execution_count": 37
        }
      ],
      "source": [
        "a + b"
      ]
    },
    {
      "cell_type": "markdown",
      "id": "fc20ad08-c098-4593-8b9c-dbcd87937c56",
      "metadata": {
        "id": "fc20ad08-c098-4593-8b9c-dbcd87937c56"
      },
      "source": [
        "Unir los ndarray \"a\" y \"b\", guardarlo en la variable c"
      ]
    },
    {
      "cell_type": "code",
      "execution_count": 39,
      "id": "eac3bddb-1e5e-4357-9bc6-61637c2c6d26",
      "metadata": {
        "id": "eac3bddb-1e5e-4357-9bc6-61637c2c6d26",
        "outputId": "3d59d77c-c55a-4d0c-dacd-2d6ff5a9810e",
        "colab": {
          "base_uri": "https://localhost:8080/"
        }
      },
      "outputs": [
        {
          "output_type": "execute_result",
          "data": {
            "text/plain": [
              "array([10., 12., 14., 16., 18., 20.,  5.,  9., 13., 17., 21., 25.])"
            ]
          },
          "metadata": {},
          "execution_count": 39
        }
      ],
      "source": [
        "c = np.concatenate((a,b))\n",
        "c"
      ]
    },
    {
      "cell_type": "markdown",
      "id": "378dd0d9-1363-4dfb-ba87-674921eb979e",
      "metadata": {
        "id": "378dd0d9-1363-4dfb-ba87-674921eb979e"
      },
      "source": [
        "Ordenar los valores del ndarray c"
      ]
    },
    {
      "cell_type": "code",
      "execution_count": 41,
      "id": "5dc18067-228d-4596-b481-32f2bfd1c21e",
      "metadata": {
        "id": "5dc18067-228d-4596-b481-32f2bfd1c21e",
        "outputId": "69060ccd-8f51-4fb4-bd89-9146e17b8af1",
        "colab": {
          "base_uri": "https://localhost:8080/"
        }
      },
      "outputs": [
        {
          "output_type": "execute_result",
          "data": {
            "text/plain": [
              "array([ 5.,  9., 10., 12., 13., 14., 16., 17., 18., 20., 21., 25.])"
            ]
          },
          "metadata": {},
          "execution_count": 41
        }
      ],
      "source": [
        "c.sort()\n",
        "c"
      ]
    },
    {
      "cell_type": "markdown",
      "id": "7b311d70-aedb-42c5-a1d6-690d0a9919b3",
      "metadata": {
        "id": "7b311d70-aedb-42c5-a1d6-690d0a9919b3"
      },
      "source": [
        "__Ejercicio 13:__"
      ]
    },
    {
      "cell_type": "markdown",
      "id": "4965dab5-9b59-40b7-8246-4cf089550b74",
      "metadata": {
        "id": "4965dab5-9b59-40b7-8246-4cf089550b74"
      },
      "source": [
        "Utilizar rg.random para generar un ndarray de 1000 números aleatorios entre el 0 y 1"
      ]
    },
    {
      "cell_type": "code",
      "execution_count": 43,
      "id": "336bd3a7-b45d-4a1e-bcce-74910ec6b328",
      "metadata": {
        "id": "336bd3a7-b45d-4a1e-bcce-74910ec6b328",
        "outputId": "55b957d2-7567-4c9c-a914-dd767c6e491d",
        "colab": {
          "base_uri": "https://localhost:8080/",
          "height": 430
        }
      },
      "outputs": [
        {
          "output_type": "display_data",
          "data": {
            "text/plain": [
              "<Figure size 640x480 with 1 Axes>"
            ],
            "image/png": "[encoded data removed]"
          },
          "metadata": {}
        }
      ],
      "source": [
        "rg = np.random.default_rng(2)\n",
        "aleatorios = rg.random(1000)\n",
        "plt.hist(aleatorios, bins = 100)\n",
        "plt.show()"
      ]
    },
    {
      "cell_type": "markdown",
      "id": "93474f2c-03ed-4c5e-8eaf-58503cf1476e",
      "metadata": {
        "id": "93474f2c-03ed-4c5e-8eaf-58503cf1476e"
      },
      "source": [
        "__Ejercicio 14:__"
      ]
    },
    {
      "cell_type": "markdown",
      "id": "ce6d972e-370e-4c20-aa5f-da7842f765a9",
      "metadata": {
        "id": "ce6d972e-370e-4c20-aa5f-da7842f765a9"
      },
      "source": [
        "Utilizar rg.normal para generar 100000 valores aleatorios que sigan una distribución normal"
      ]
    },
    {
      "cell_type": "code",
      "execution_count": 44,
      "id": "f6cd3814-1cf1-47cf-98be-2dac3bcd3573",
      "metadata": {
        "id": "f6cd3814-1cf1-47cf-98be-2dac3bcd3573",
        "outputId": "7a2f46a3-f964-446d-eb6c-34320cf46a97",
        "colab": {
          "base_uri": "https://localhost:8080/"
        }
      },
      "outputs": [
        {
          "output_type": "execute_result",
          "data": {
            "text/plain": [
              "array([13.51638928, 14.60947682,  6.23501862, ...,  3.56636798,\n",
              "        8.66660197, 12.61968552])"
            ]
          },
          "metadata": {},
          "execution_count": 44
        }
      ],
      "source": [
        "normal = rg.normal(10,5,100000)\n",
        "normal"
      ]
    },
    {
      "cell_type": "code",
      "execution_count": 45,
      "id": "6aefe781-fce0-475e-b583-09642e942696",
      "metadata": {
        "id": "6aefe781-fce0-475e-b583-09642e942696",
        "outputId": "00c5d0dc-0caf-4d9a-aa56-3d64ae49b679",
        "colab": {
          "base_uri": "https://localhost:8080/",
          "height": 430
        }
      },
      "outputs": [
        {
          "output_type": "display_data",
          "data": {
            "text/plain": [
              "<Figure size 640x480 with 1 Axes>"
            ],
            "image/png": "[encoded data removed]"
          },
          "metadata": {}
        }
      ],
      "source": [
        "plt.hist(normal, bins = 1000)\n",
        "plt.show()"
      ]
    },
    {
      "cell_type": "markdown",
      "id": "1159dfcb-d59b-48f4-89b6-a1b5778595a0",
      "metadata": {
        "id": "1159dfcb-d59b-48f4-89b6-a1b5778595a0"
      },
      "source": [
        "__Ejercicio 15:__"
      ]
    },
    {
      "cell_type": "markdown",
      "id": "55d97f65-d5b4-4a8d-90c9-d6ef6759c209",
      "metadata": {
        "id": "55d97f65-d5b4-4a8d-90c9-d6ef6759c209"
      },
      "source": [
        "Utilizar rg.integers para generar 2000 números aleatorios enteros entre el 0 y el 19"
      ]
    },
    {
      "cell_type": "code",
      "execution_count": 46,
      "id": "545685a7-641e-412c-a0e4-568654ce2220",
      "metadata": {
        "id": "545685a7-641e-412c-a0e4-568654ce2220",
        "outputId": "bcfaa25b-f57b-4bd8-e7c4-39465faf582a",
        "colab": {
          "base_uri": "https://localhost:8080/"
        }
      },
      "outputs": [
        {
          "output_type": "execute_result",
          "data": {
            "text/plain": [
              "array([17,  9,  6, ..., 16, 14,  9])"
            ]
          },
          "metadata": {},
          "execution_count": 46
        }
      ],
      "source": [
        "enteros = rg.integers(20,size=2000)\n",
        "enteros"
      ]
    },
    {
      "cell_type": "code",
      "execution_count": 47,
      "id": "87b4f720-2e82-41ae-85e6-2ca3e70eeecd",
      "metadata": {
        "id": "87b4f720-2e82-41ae-85e6-2ca3e70eeecd",
        "outputId": "0aa51372-40f8-4a2a-8730-875daab8168f",
        "colab": {
          "base_uri": "https://localhost:8080/",
          "height": 430
        }
      },
      "outputs": [
        {
          "output_type": "display_data",
          "data": {
            "text/plain": [
              "<Figure size 640x480 with 1 Axes>"
            ],
            "image/png": "[encoded data removed]"
          },
          "metadata": {}
        }
      ],
      "source": [
        "plt.hist(enteros)\n",
        "plt.show()"
      ]
    },
    {
      "cell_type": "code",
      "execution_count": null,
      "id": "8fd03ef3-875a-44ba-914c-26e57cd4dcba",
      "metadata": {
        "id": "8fd03ef3-875a-44ba-914c-26e57cd4dcba"
      },
      "outputs": [],
      "source": [
        "#np.unique(enteros, return_counts=True) Comprobar que los valores son muy similares"
      ]
    },
    {
      "cell_type": "markdown",
      "id": "3324d3f5-a77a-42c0-ba7e-25313e43bb58",
      "metadata": {
        "id": "3324d3f5-a77a-42c0-ba7e-25313e43bb58"
      },
      "source": [
        "__Ejercicio 16:__"
      ]
    },
    {
      "cell_type": "markdown",
      "id": "d907b4dc-301e-4b21-bde5-4dd96fdcd076",
      "metadata": {
        "id": "d907b4dc-301e-4b21-bde5-4dd96fdcd076"
      },
      "source": [
        "Utilizar rg.choice para elegir 10 números aleatorios SIN REPETIR entre el 0 y el 25"
      ]
    },
    {
      "cell_type": "code",
      "execution_count": 48,
      "id": "7ec02ffd-eef3-4e3e-b2e9-59450b94d3bd",
      "metadata": {
        "id": "7ec02ffd-eef3-4e3e-b2e9-59450b94d3bd",
        "outputId": "163dd1a4-faf4-499f-d1cf-d916e3dd5dda",
        "colab": {
          "base_uri": "https://localhost:8080/"
        }
      },
      "outputs": [
        {
          "output_type": "execute_result",
          "data": {
            "text/plain": [
              "array([ 0,  7,  1, 13, 20,  9,  8, 11, 18,  4])"
            ]
          },
          "metadata": {},
          "execution_count": 48
        }
      ],
      "source": [
        "rg.choice(26, size = 10, replace = False)"
      ]
    },
    {
      "cell_type": "markdown",
      "id": "385775b3-86a0-4715-908b-dfa75dca95f2",
      "metadata": {
        "id": "385775b3-86a0-4715-908b-dfa75dca95f2"
      },
      "source": [
        "__Ejercicio 17:__"
      ]
    },
    {
      "cell_type": "code",
      "execution_count": 49,
      "id": "76b0c5a0-5b28-48fe-9485-baad8cf663c6",
      "metadata": {
        "id": "76b0c5a0-5b28-48fe-9485-baad8cf663c6",
        "outputId": "c354f56d-5c39-4b8a-c848-d1fbadd96222",
        "colab": {
          "base_uri": "https://localhost:8080/"
        }
      },
      "outputs": [
        {
          "output_type": "execute_result",
          "data": {
            "text/plain": [
              "array([ 4, 11,  8,  8,  8, 17,  9, 16])"
            ]
          },
          "metadata": {},
          "execution_count": 49
        }
      ],
      "source": [
        "estadisticos = rg.integers(20,size=8)\n",
        "estadisticos"
      ]
    },
    {
      "cell_type": "markdown",
      "id": "012b5e04-220e-433c-b0ec-b21aa9d326cf",
      "metadata": {
        "id": "012b5e04-220e-433c-b0ec-b21aa9d326cf"
      },
      "source": [
        "Utilizar la función min() para obtener el valor mínimo en el ndarray \"estadisticos\""
      ]
    },
    {
      "cell_type": "code",
      "execution_count": 50,
      "id": "e4a38410-43ac-4c7c-92bd-c3d65c0b5432",
      "metadata": {
        "id": "e4a38410-43ac-4c7c-92bd-c3d65c0b5432",
        "outputId": "31b338e3-0986-4c9e-c3a3-6bce84da1871",
        "colab": {
          "base_uri": "https://localhost:8080/"
        }
      },
      "outputs": [
        {
          "output_type": "execute_result",
          "data": {
            "text/plain": [
              "np.int64(4)"
            ]
          },
          "metadata": {},
          "execution_count": 50
        }
      ],
      "source": [
        "estadisticos.min()"
      ]
    },
    {
      "cell_type": "markdown",
      "id": "117dddae-3654-43cf-9e8d-54e783a674cb",
      "metadata": {
        "id": "117dddae-3654-43cf-9e8d-54e783a674cb"
      },
      "source": [
        "Utilizar la función max() para obtener el valor máximo en el ndarray \"estadisticos\""
      ]
    },
    {
      "cell_type": "code",
      "execution_count": 51,
      "id": "abaf6bb5-c24d-4607-b7e2-f6fafde47d97",
      "metadata": {
        "id": "abaf6bb5-c24d-4607-b7e2-f6fafde47d97",
        "outputId": "fad24b12-ab33-49b4-ca0d-a166d1596608",
        "colab": {
          "base_uri": "https://localhost:8080/"
        }
      },
      "outputs": [
        {
          "output_type": "execute_result",
          "data": {
            "text/plain": [
              "np.int64(17)"
            ]
          },
          "metadata": {},
          "execution_count": 51
        }
      ],
      "source": [
        "estadisticos.max()"
      ]
    },
    {
      "cell_type": "markdown",
      "id": "fd88688f-2bc0-4c5d-bcd2-af6fe9e99411",
      "metadata": {
        "id": "fd88688f-2bc0-4c5d-bcd2-af6fe9e99411"
      },
      "source": [
        "Utilizar la función mean() para obtener el valor promedio en el ndarray \"estadisticos\""
      ]
    },
    {
      "cell_type": "code",
      "execution_count": 52,
      "id": "3b38b3b3-2245-4731-af11-7e19474af1cc",
      "metadata": {
        "id": "3b38b3b3-2245-4731-af11-7e19474af1cc",
        "outputId": "f7e4a9be-7f03-44c8-ef70-e6e6fdbbe74a",
        "colab": {
          "base_uri": "https://localhost:8080/"
        }
      },
      "outputs": [
        {
          "output_type": "execute_result",
          "data": {
            "text/plain": [
              "np.float64(10.125)"
            ]
          },
          "metadata": {},
          "execution_count": 52
        }
      ],
      "source": [
        "estadisticos.mean()"
      ]
    },
    {
      "cell_type": "markdown",
      "id": "e0ef2fef-cad0-4579-a8ce-b298b42fb330",
      "metadata": {
        "id": "e0ef2fef-cad0-4579-a8ce-b298b42fb330"
      },
      "source": [
        "Utilizar la función std() para obtener el valor de la desviación estandar en el ndarray \"estadisticos\""
      ]
    },
    {
      "cell_type": "code",
      "execution_count": 53,
      "id": "77c908c4-d007-4baa-801a-314aab7b2369",
      "metadata": {
        "id": "77c908c4-d007-4baa-801a-314aab7b2369",
        "outputId": "37000d70-51a1-4f8a-f8a8-eba751b1ef7d",
        "colab": {
          "base_uri": "https://localhost:8080/"
        }
      },
      "outputs": [
        {
          "output_type": "execute_result",
          "data": {
            "text/plain": [
              "np.float64(4.106016926414211)"
            ]
          },
          "metadata": {},
          "execution_count": 53
        }
      ],
      "source": [
        "estadisticos.std()"
      ]
    },
    {
      "cell_type": "markdown",
      "id": "979aded7-3aa6-4248-b2f6-ea271c5f6e79",
      "metadata": {
        "id": "979aded7-3aa6-4248-b2f6-ea271c5f6e79"
      },
      "source": [
        "Utilizar la función sum() para obtener el valor al sumar todos los números en el ndarray \"estadisticos\""
      ]
    },
    {
      "cell_type": "code",
      "execution_count": 54,
      "id": "ee48bd78-1b9b-4c32-b270-62f6f20a1c63",
      "metadata": {
        "id": "ee48bd78-1b9b-4c32-b270-62f6f20a1c63",
        "outputId": "40f0fb49-5269-41ae-a4cf-8cd0073c7f22",
        "colab": {
          "base_uri": "https://localhost:8080/"
        }
      },
      "outputs": [
        {
          "output_type": "execute_result",
          "data": {
            "text/plain": [
              "np.int64(81)"
            ]
          },
          "metadata": {},
          "execution_count": 54
        }
      ],
      "source": [
        "estadisticos.sum()"
      ]
    },
    {
      "cell_type": "markdown",
      "id": "b8a7f523-541e-4ffc-9090-f6a18f852ef2",
      "metadata": {
        "id": "b8a7f523-541e-4ffc-9090-f6a18f852ef2"
      },
      "source": [
        "__Ejercicio 18:__"
      ]
    },
    {
      "cell_type": "code",
      "execution_count": 55,
      "id": "acb73618-214c-4fcb-b022-1a97e618f4b1",
      "metadata": {
        "id": "acb73618-214c-4fcb-b022-1a97e618f4b1",
        "outputId": "219ac061-c6c5-4468-e925-058270d62163",
        "colab": {
          "base_uri": "https://localhost:8080/"
        }
      },
      "outputs": [
        {
          "output_type": "execute_result",
          "data": {
            "text/plain": [
              "array([[ 6,  8, 11,  8],\n",
              "       [13, 14,  0,  0],\n",
              "       [ 8, 17, 17, 10],\n",
              "       [ 5, 10,  1,  2],\n",
              "       [18, 16, 14,  2]])"
            ]
          },
          "metadata": {},
          "execution_count": 55
        }
      ],
      "source": [
        "estadisticos_2d = rg.integers(20,size=(5,4))\n",
        "estadisticos_2d"
      ]
    },
    {
      "cell_type": "markdown",
      "id": "88696800-dfdf-4b5f-bf3b-8412b1a84e19",
      "metadata": {
        "id": "88696800-dfdf-4b5f-bf3b-8412b1a84e19"
      },
      "source": [
        "Utilizar la función min() para obtener el valor mínimo de cada columna en el ndarray \"estadisticos_2d\""
      ]
    },
    {
      "cell_type": "code",
      "execution_count": 56,
      "id": "fdc54d32-3db7-4e6c-a9ef-b87680bcc1fd",
      "metadata": {
        "id": "fdc54d32-3db7-4e6c-a9ef-b87680bcc1fd",
        "outputId": "81fd322c-1224-41f2-8961-d17b04e13a6f",
        "colab": {
          "base_uri": "https://localhost:8080/"
        }
      },
      "outputs": [
        {
          "output_type": "execute_result",
          "data": {
            "text/plain": [
              "array([5, 8, 0, 0])"
            ]
          },
          "metadata": {},
          "execution_count": 56
        }
      ],
      "source": [
        "estadisticos_2d.min(axis=0)"
      ]
    },
    {
      "cell_type": "markdown",
      "id": "7e18ef29-8d28-41ee-b42a-c5788b7179a5",
      "metadata": {
        "id": "7e18ef29-8d28-41ee-b42a-c5788b7179a5"
      },
      "source": [
        "Utilizar la función max() para obtener el valor mínimo de cada fila en el ndarray \"estadisticos_2d\""
      ]
    },
    {
      "cell_type": "code",
      "execution_count": 58,
      "id": "86f54bac-4399-46d6-8a11-866cab776aa0",
      "metadata": {
        "id": "86f54bac-4399-46d6-8a11-866cab776aa0",
        "outputId": "f8dd4849-6bca-45d4-a334-d415c5a65c01",
        "colab": {
          "base_uri": "https://localhost:8080/"
        }
      },
      "outputs": [
        {
          "output_type": "execute_result",
          "data": {
            "text/plain": [
              "array([11, 14, 17, 10, 18])"
            ]
          },
          "metadata": {},
          "execution_count": 58
        }
      ],
      "source": [
        "estadisticos_2d.max(axis=1)"
      ]
    },
    {
      "cell_type": "markdown",
      "id": "e1fa802b-7974-471d-a02a-7e17a6ab7ae4",
      "metadata": {
        "id": "e1fa802b-7974-471d-a02a-7e17a6ab7ae4"
      },
      "source": [
        "__Ejercicio 19:__"
      ]
    },
    {
      "cell_type": "code",
      "execution_count": 59,
      "id": "ae7128dd-fdb9-49e7-a68f-b89aa5e7eb6d",
      "metadata": {
        "id": "ae7128dd-fdb9-49e7-a68f-b89aa5e7eb6d",
        "outputId": "3ac13652-a65a-4fcf-8bff-0f4772d4767e",
        "colab": {
          "base_uri": "https://localhost:8080/"
        }
      },
      "outputs": [
        {
          "output_type": "execute_result",
          "data": {
            "text/plain": [
              "array([[ 6,  8, 11,  8],\n",
              "       [13, 14,  0,  0],\n",
              "       [ 8, 17, 17, 10],\n",
              "       [ 5, 10,  1,  2],\n",
              "       [18, 16, 14,  2]])"
            ]
          },
          "metadata": {},
          "execution_count": 59
        }
      ],
      "source": [
        "estadisticos_2d"
      ]
    },
    {
      "cell_type": "markdown",
      "id": "28e17497-4e11-4fad-9cf5-727078caf77e",
      "metadata": {
        "id": "28e17497-4e11-4fad-9cf5-727078caf77e"
      },
      "source": [
        "Obtener los valores menores a 12 en el ndarray \"estadisticos_2d\""
      ]
    },
    {
      "cell_type": "code",
      "execution_count": 60,
      "id": "65137100-5cbc-4047-b8c7-bc9d20e0e3ca",
      "metadata": {
        "id": "65137100-5cbc-4047-b8c7-bc9d20e0e3ca",
        "outputId": "d87fe459-85e7-490c-a8d6-fb0dc322b684",
        "colab": {
          "base_uri": "https://localhost:8080/"
        }
      },
      "outputs": [
        {
          "output_type": "execute_result",
          "data": {
            "text/plain": [
              "array([ 6,  8, 11,  8,  0,  0,  8, 10,  5, 10,  1,  2,  2])"
            ]
          },
          "metadata": {},
          "execution_count": 60
        }
      ],
      "source": [
        "estadisticos_2d[estadisticos_2d < 12]"
      ]
    },
    {
      "cell_type": "code",
      "execution_count": null,
      "id": "5ff3cdc3-7b84-424f-8b1f-b7d9a8851d03",
      "metadata": {
        "id": "5ff3cdc3-7b84-424f-8b1f-b7d9a8851d03"
      },
      "outputs": [],
      "source": []
    },
    {
      "cell_type": "markdown",
      "id": "a6008ae4-8a10-4ff4-92f1-1f82b82c8b5a",
      "metadata": {
        "id": "a6008ae4-8a10-4ff4-92f1-1f82b82c8b5a"
      },
      "source": [
        "__Ejercicio 20:__"
      ]
    },
    {
      "cell_type": "code",
      "execution_count": 61,
      "id": "25fdd4ed-5a3f-4a3b-8a08-486776700b92",
      "metadata": {
        "id": "25fdd4ed-5a3f-4a3b-8a08-486776700b92",
        "outputId": "39ac052e-d196-4c53-ae29-ffc98d7528ac",
        "colab": {
          "base_uri": "https://localhost:8080/"
        }
      },
      "outputs": [
        {
          "output_type": "stream",
          "name": "stdout",
          "text": [
            "[[19 19 15]\n",
            " [19 15 10]\n",
            " [15 16  5]] \n",
            "\n",
            " [[ 9 18 14]\n",
            " [ 7 19 17]\n",
            " [ 8 11  2]]\n"
          ]
        }
      ],
      "source": [
        "np1 = rg.integers(20,size=(3,3))\n",
        "np2 = rg.integers(20,size=(3,3))\n",
        "print(np1,\"\\n\\n\",np2)"
      ]
    },
    {
      "cell_type": "markdown",
      "id": "ad017f47-c974-4168-9c79-bd407cec5ef8",
      "metadata": {
        "id": "ad017f47-c974-4168-9c79-bd407cec5ef8"
      },
      "source": [
        "Utilizar np.vstack para unir los ndarray \"np1\" y \"np2\" verticalmente"
      ]
    },
    {
      "cell_type": "code",
      "execution_count": 62,
      "id": "c8b9b36b-7bfb-4027-91ea-626227546983",
      "metadata": {
        "id": "c8b9b36b-7bfb-4027-91ea-626227546983",
        "outputId": "34707f35-6403-41d4-f0d6-96558b2d825f",
        "colab": {
          "base_uri": "https://localhost:8080/"
        }
      },
      "outputs": [
        {
          "output_type": "execute_result",
          "data": {
            "text/plain": [
              "array([[19, 19, 15],\n",
              "       [19, 15, 10],\n",
              "       [15, 16,  5],\n",
              "       [ 9, 18, 14],\n",
              "       [ 7, 19, 17],\n",
              "       [ 8, 11,  2]])"
            ]
          },
          "metadata": {},
          "execution_count": 62
        }
      ],
      "source": [
        "np.vstack((np1,np2))"
      ]
    },
    {
      "cell_type": "markdown",
      "id": "66f8921c-45d8-4c7d-9430-999d5fa3c335",
      "metadata": {
        "id": "66f8921c-45d8-4c7d-9430-999d5fa3c335"
      },
      "source": [
        "Utilizar np.vstack para unir los ndarray \"np1\" y \"np2\" horizontalmente"
      ]
    },
    {
      "cell_type": "code",
      "execution_count": 63,
      "id": "44fbc502-904a-461e-a74f-23d10bc37a12",
      "metadata": {
        "id": "44fbc502-904a-461e-a74f-23d10bc37a12",
        "outputId": "f318f875-500f-4e34-9bdd-25635cdf6d00",
        "colab": {
          "base_uri": "https://localhost:8080/"
        }
      },
      "outputs": [
        {
          "output_type": "execute_result",
          "data": {
            "text/plain": [
              "array([[19, 19, 15,  9, 18, 14],\n",
              "       [19, 15, 10,  7, 19, 17],\n",
              "       [15, 16,  5,  8, 11,  2]])"
            ]
          },
          "metadata": {},
          "execution_count": 63
        }
      ],
      "source": [
        "np.hstack((np1,np2))"
      ]
    },
    {
      "cell_type": "markdown",
      "id": "a7eafbf0-968b-41cb-b966-c67bb42bf049",
      "metadata": {
        "id": "a7eafbf0-968b-41cb-b966-c67bb42bf049"
      },
      "source": [
        "__Ejercicio 21:__"
      ]
    },
    {
      "cell_type": "code",
      "execution_count": 64,
      "id": "a929ea5f-6635-48f3-a32a-d6f5bea564f7",
      "metadata": {
        "id": "a929ea5f-6635-48f3-a32a-d6f5bea564f7",
        "outputId": "09f0c105-462b-4a1b-c2db-24c3498986bc",
        "colab": {
          "base_uri": "https://localhost:8080/"
        }
      },
      "outputs": [
        {
          "output_type": "execute_result",
          "data": {
            "text/plain": [
              "array([ 0, 14,  8, 19,  3,  4,  1,  8, 15, 15])"
            ]
          },
          "metadata": {},
          "execution_count": 64
        }
      ],
      "source": [
        "enteros = rg.integers(20,size=(10))\n",
        "enteros"
      ]
    },
    {
      "cell_type": "markdown",
      "id": "f07668c4-1d9a-46e9-8e6d-a80aaeb3961c",
      "metadata": {
        "id": "f07668c4-1d9a-46e9-8e6d-a80aaeb3961c"
      },
      "source": [
        "Seleccionar los primeros 6 valores del ndarray \"enteros\""
      ]
    },
    {
      "cell_type": "code",
      "execution_count": 65,
      "id": "62f98dce-8e1e-4749-86b4-e1bed5f44081",
      "metadata": {
        "id": "62f98dce-8e1e-4749-86b4-e1bed5f44081",
        "outputId": "32fb98a9-85ce-4803-a08e-38131098c95e",
        "colab": {
          "base_uri": "https://localhost:8080/"
        }
      },
      "outputs": [
        {
          "output_type": "execute_result",
          "data": {
            "text/plain": [
              "array([ 0, 14,  8, 19,  3,  4])"
            ]
          },
          "metadata": {},
          "execution_count": 65
        }
      ],
      "source": [
        "enteros[0:6]"
      ]
    },
    {
      "cell_type": "markdown",
      "id": "7c243a71-e44a-4467-9621-0da26997e335",
      "metadata": {
        "id": "7c243a71-e44a-4467-9621-0da26997e335"
      },
      "source": [
        "Seleccionar los valores en la posición 0,2 y 4 del ndarray \"enteros\""
      ]
    },
    {
      "cell_type": "code",
      "execution_count": 66,
      "id": "5e09e7ea-3ac8-48ba-8330-9b4213db98bb",
      "metadata": {
        "id": "5e09e7ea-3ac8-48ba-8330-9b4213db98bb",
        "outputId": "3eab80c6-aaa0-4176-d507-eccb34bcd276",
        "colab": {
          "base_uri": "https://localhost:8080/"
        }
      },
      "outputs": [
        {
          "output_type": "execute_result",
          "data": {
            "text/plain": [
              "array([0, 8, 3])"
            ]
          },
          "metadata": {},
          "execution_count": 66
        }
      ],
      "source": [
        "enteros[0:6:2]"
      ]
    },
    {
      "cell_type": "markdown",
      "id": "6178664b-de22-41cb-a499-53d704784b94",
      "metadata": {
        "id": "6178664b-de22-41cb-a499-53d704784b94"
      },
      "source": [
        "Seleccionar todos los valores con un indice par en el ndarray \"enteros\" (0,2,4,...)"
      ]
    },
    {
      "cell_type": "code",
      "execution_count": 67,
      "id": "11169abe-382b-4b5f-8332-371f3edabcfc",
      "metadata": {
        "id": "11169abe-382b-4b5f-8332-371f3edabcfc",
        "outputId": "a9171dab-d777-4e97-b0c3-f3afebb300fd",
        "colab": {
          "base_uri": "https://localhost:8080/"
        }
      },
      "outputs": [
        {
          "output_type": "execute_result",
          "data": {
            "text/plain": [
              "array([ 0,  8,  3,  1, 15])"
            ]
          },
          "metadata": {},
          "execution_count": 67
        }
      ],
      "source": [
        "enteros[::2]"
      ]
    },
    {
      "cell_type": "markdown",
      "id": "fd2d863b-c2cf-4de4-bcdc-59fdfb9170a5",
      "metadata": {
        "id": "fd2d863b-c2cf-4de4-bcdc-59fdfb9170a5"
      },
      "source": [
        "__Ejercicio 22:__"
      ]
    },
    {
      "cell_type": "code",
      "execution_count": 68,
      "id": "6c5257e2-4553-48a6-a8f2-765c128d18c3",
      "metadata": {
        "id": "6c5257e2-4553-48a6-a8f2-765c128d18c3",
        "outputId": "14ca3fee-3625-440b-c783-d0d32738544b",
        "colab": {
          "base_uri": "https://localhost:8080/"
        }
      },
      "outputs": [
        {
          "output_type": "execute_result",
          "data": {
            "text/plain": [
              "array([[ 4,  3,  8,  8, 12],\n",
              "       [ 8, 19,  8, 19,  5],\n",
              "       [ 2, 13,  0,  4, 10],\n",
              "       [ 6, 10,  9,  0,  4],\n",
              "       [ 2, 18, 15,  1,  8],\n",
              "       [17, 17, 16,  1, 15],\n",
              "       [ 1, 13,  4,  5,  5],\n",
              "       [16,  0,  4,  7,  3]])"
            ]
          },
          "metadata": {},
          "execution_count": 68
        }
      ],
      "source": [
        "enteros_2d = rg.integers(20,size=(8,5))\n",
        "enteros_2d"
      ]
    },
    {
      "cell_type": "markdown",
      "id": "37bc0a12-9c60-4973-a312-80804c150ada",
      "metadata": {
        "id": "37bc0a12-9c60-4973-a312-80804c150ada"
      },
      "source": [
        "Seleccionar el cuarto valor en el segundo array de \"enteros_2d\""
      ]
    },
    {
      "cell_type": "code",
      "execution_count": 70,
      "id": "b1647bbd-6a30-4d1b-a04e-2381da07d9d0",
      "metadata": {
        "id": "b1647bbd-6a30-4d1b-a04e-2381da07d9d0",
        "outputId": "cd4a9465-6c96-4780-ca0c-1f06a527791a",
        "colab": {
          "base_uri": "https://localhost:8080/"
        }
      },
      "outputs": [
        {
          "output_type": "execute_result",
          "data": {
            "text/plain": [
              "np.int64(19)"
            ]
          },
          "metadata": {},
          "execution_count": 70
        }
      ],
      "source": [
        "enteros_2d[1,3]"
      ]
    },
    {
      "cell_type": "markdown",
      "id": "8735f0f9-4d36-4640-b47c-539587896e73",
      "metadata": {
        "id": "8735f0f9-4d36-4640-b47c-539587896e73"
      },
      "source": [
        "Seleccionar el segundo valor en los arrays con indice 3, 4 y 5 de \"enteros_2d\""
      ]
    },
    {
      "cell_type": "code",
      "execution_count": 71,
      "id": "40b2a7ad-eaea-425d-a8bc-058fba013c59",
      "metadata": {
        "id": "40b2a7ad-eaea-425d-a8bc-058fba013c59",
        "outputId": "0053cd4e-cb8f-411c-b474-3aec52d13359",
        "colab": {
          "base_uri": "https://localhost:8080/"
        }
      },
      "outputs": [
        {
          "output_type": "execute_result",
          "data": {
            "text/plain": [
              "array([10, 18, 17])"
            ]
          },
          "metadata": {},
          "execution_count": 71
        }
      ],
      "source": [
        "enteros_2d[3:6,1]"
      ]
    },
    {
      "cell_type": "markdown",
      "id": "ed773fbb-8795-4e25-adb1-3952ab3be59f",
      "metadata": {
        "id": "ed773fbb-8795-4e25-adb1-3952ab3be59f"
      },
      "source": [
        "Seleccionar los 2 primeros valores en los arrays con indice 4, 5 y 6 de \"enteros_2d\""
      ]
    },
    {
      "cell_type": "code",
      "execution_count": 72,
      "id": "730ceebe-04bc-46d1-a8a2-d98207d66afb",
      "metadata": {
        "id": "730ceebe-04bc-46d1-a8a2-d98207d66afb",
        "outputId": "c6ec6878-0dde-4455-cddd-78d8fd885468",
        "colab": {
          "base_uri": "https://localhost:8080/"
        }
      },
      "outputs": [
        {
          "output_type": "execute_result",
          "data": {
            "text/plain": [
              "array([[ 2, 18],\n",
              "       [17, 17],\n",
              "       [ 1, 13]])"
            ]
          },
          "metadata": {},
          "execution_count": 72
        }
      ],
      "source": [
        "enteros_2d[4:7,0:2]"
      ]
    }
  ],
  "metadata": {
    "kernelspec": {
      "display_name": "Python 3 (ipykernel)",
      "language": "python",
      "name": "python3"
    },
    "language_info": {
      "codemirror_mode": {
        "name": "ipython",
        "version": 3
      },
      "file_extension": ".py",
      "mimetype": "text/x-python",
      "name": "python",
      "nbconvert_exporter": "python",
      "pygments_lexer": "ipython3",
      "version": "3.9.7"
    },
    "colab": {
      "provenance": [],
      "include_colab_link": true
    }
  },
  "nbformat": 4,
  "nbformat_minor": 5
}